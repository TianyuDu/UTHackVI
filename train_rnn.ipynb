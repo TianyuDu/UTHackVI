{
 "cells": [
  {
   "cell_type": "code",
   "execution_count": null,
   "metadata": {},
   "outputs": [],
   "source": [
    "\"\"\"\n",
    "Data set: https://cs.stanford.edu/people/alecmgo/trainingandtestdata.zip\n",
    "\"\"\""
   ]
  },
  {
   "cell_type": "code",
   "execution_count": 1,
   "metadata": {},
   "outputs": [
    {
     "name": "stderr",
     "output_type": "stream",
     "text": [
      "Using TensorFlow backend.\n"
     ]
    }
   ],
   "source": [
    "import numpy as np\n",
    "import pandas as pd\n",
    "import tensorflow as tf\n",
    "import datetime\n",
    "from sklearn.model_selection import train_test_split\n",
    "import _pickle as pickle\n",
    "from typing import List\n",
    "import os\n",
    "from collections import defaultdict\n",
    "from tqdm import tqdm\n",
    "from keras.preprocessing.sequence import pad_sequences\n",
    "import matplotlib\n",
    "from matplotlib import pyplot as plt\n",
    "plt.style.use(\"seaborn-dark\")"
   ]
  },
  {
   "cell_type": "code",
   "execution_count": 2,
   "metadata": {},
   "outputs": [],
   "source": [
    "import json_rec\n",
    "from data_import import load_embedding_from_disks"
   ]
  },
  {
   "cell_type": "code",
   "execution_count": 3,
   "metadata": {},
   "outputs": [],
   "source": [
    "# df = pd.read_csv(\"./data/text_emotion.csv\")\n",
    "df = pd.read_csv(\n",
    "    \"/home/ec2-user/data/training.1600000.processed.noemoticon.csv\", header=None, encoding = \"ISO-8859-1\")\n",
    "df_test = pd.read_csv(\n",
    "    \"/home/ec2-user/data/testdata.manual.2009.06.14.csv\", header=None, encoding = \"ISO-8859-1\")"
   ]
  },
  {
   "cell_type": "code",
   "execution_count": 4,
   "metadata": {},
   "outputs": [
    {
     "name": "stdout",
     "output_type": "stream",
     "text": [
      "Total training observations: 1600000\n"
     ]
    },
    {
     "data": {
      "text/html": [
       "<div>\n",
       "<style scoped>\n",
       "    .dataframe tbody tr th:only-of-type {\n",
       "        vertical-align: middle;\n",
       "    }\n",
       "\n",
       "    .dataframe tbody tr th {\n",
       "        vertical-align: top;\n",
       "    }\n",
       "\n",
       "    .dataframe thead th {\n",
       "        text-align: right;\n",
       "    }\n",
       "</style>\n",
       "<table border=\"1\" class=\"dataframe\">\n",
       "  <thead>\n",
       "    <tr style=\"text-align: right;\">\n",
       "      <th></th>\n",
       "      <th>polarity</th>\n",
       "      <th>id</th>\n",
       "      <th>date</th>\n",
       "      <th>query</th>\n",
       "      <th>user</th>\n",
       "      <th>text</th>\n",
       "    </tr>\n",
       "  </thead>\n",
       "  <tbody>\n",
       "    <tr>\n",
       "      <th>0</th>\n",
       "      <td>0</td>\n",
       "      <td>1467810369</td>\n",
       "      <td>Mon Apr 06 22:19:45 PDT 2009</td>\n",
       "      <td>NO_QUERY</td>\n",
       "      <td>_TheSpecialOne_</td>\n",
       "      <td>@switchfoot http://twitpic.com/2y1zl - Awww, t...</td>\n",
       "    </tr>\n",
       "    <tr>\n",
       "      <th>1</th>\n",
       "      <td>0</td>\n",
       "      <td>1467810672</td>\n",
       "      <td>Mon Apr 06 22:19:49 PDT 2009</td>\n",
       "      <td>NO_QUERY</td>\n",
       "      <td>scotthamilton</td>\n",
       "      <td>is upset that he can't update his Facebook by ...</td>\n",
       "    </tr>\n",
       "    <tr>\n",
       "      <th>2</th>\n",
       "      <td>0</td>\n",
       "      <td>1467810917</td>\n",
       "      <td>Mon Apr 06 22:19:53 PDT 2009</td>\n",
       "      <td>NO_QUERY</td>\n",
       "      <td>mattycus</td>\n",
       "      <td>@Kenichan I dived many times for the ball. Man...</td>\n",
       "    </tr>\n",
       "    <tr>\n",
       "      <th>3</th>\n",
       "      <td>0</td>\n",
       "      <td>1467811184</td>\n",
       "      <td>Mon Apr 06 22:19:57 PDT 2009</td>\n",
       "      <td>NO_QUERY</td>\n",
       "      <td>ElleCTF</td>\n",
       "      <td>my whole body feels itchy and like its on fire</td>\n",
       "    </tr>\n",
       "    <tr>\n",
       "      <th>4</th>\n",
       "      <td>0</td>\n",
       "      <td>1467811193</td>\n",
       "      <td>Mon Apr 06 22:19:57 PDT 2009</td>\n",
       "      <td>NO_QUERY</td>\n",
       "      <td>Karoli</td>\n",
       "      <td>@nationwideclass no, it's not behaving at all....</td>\n",
       "    </tr>\n",
       "  </tbody>\n",
       "</table>\n",
       "</div>"
      ],
      "text/plain": [
       "   polarity          id                          date     query  \\\n",
       "0         0  1467810369  Mon Apr 06 22:19:45 PDT 2009  NO_QUERY   \n",
       "1         0  1467810672  Mon Apr 06 22:19:49 PDT 2009  NO_QUERY   \n",
       "2         0  1467810917  Mon Apr 06 22:19:53 PDT 2009  NO_QUERY   \n",
       "3         0  1467811184  Mon Apr 06 22:19:57 PDT 2009  NO_QUERY   \n",
       "4         0  1467811193  Mon Apr 06 22:19:57 PDT 2009  NO_QUERY   \n",
       "\n",
       "              user                                               text  \n",
       "0  _TheSpecialOne_  @switchfoot http://twitpic.com/2y1zl - Awww, t...  \n",
       "1    scotthamilton  is upset that he can't update his Facebook by ...  \n",
       "2         mattycus  @Kenichan I dived many times for the ball. Man...  \n",
       "3          ElleCTF    my whole body feels itchy and like its on fire   \n",
       "4           Karoli  @nationwideclass no, it's not behaving at all....  "
      ]
     },
     "execution_count": 4,
     "metadata": {},
     "output_type": "execute_result"
    }
   ],
   "source": [
    "df.columns = [\"polarity\", \"id\", \"date\", \"query\", \"user\", \"text\"]\n",
    "print(f\"Total training observations: {len(df)}\")\n",
    "df.head()  "
   ]
  },
  {
   "cell_type": "code",
   "execution_count": 5,
   "metadata": {},
   "outputs": [],
   "source": [
    "if not os.path.exists(\"./saved_model\"):\n",
    "    os.mkdir(\"./saved_model\")\n",
    "now = datetime.datetime.now()\n",
    "model_dir = \"./saved_model/\" + now.strftime(\"%Y-%m-%d-%H:%M\")\n",
    "if not os.path.exists(model_dir):\n",
    "    os.mkdir(model_dir)\n",
    "    os.mkdir(model_dir + \"/tensorboard\")"
   ]
  },
  {
   "cell_type": "code",
   "execution_count": 6,
   "metadata": {},
   "outputs": [],
   "source": [
    "param_writer = json_rec.ParamWriter()"
   ]
  },
  {
   "cell_type": "code",
   "execution_count": 50,
   "metadata": {},
   "outputs": [
    {
     "name": "stdout",
     "output_type": "stream",
     "text": [
      "Use default param? >>> Y\n"
     ]
    }
   ],
   "source": [
    "# Parameter\n",
    "# GLOVE_FILENAME = \"../data/glove.840B.300d.txt\"\n",
    "use_default = bool(input(\"Use default param? >>> \").upper() == \"Y\")\n",
    "if use_default:\n",
    "    param = dict(\n",
    "        GLOVE_FILENAME=\"../data/glove.6B.50d.txt\",\n",
    "        lstm_units=(256, 512),\n",
    "        epochs=50,\n",
    "        max_seq_length=25\n",
    "    )\n",
    "else:\n",
    "    config_file = input(\"Directory of config file >>> \")\n",
    "    param_writer.read(config_file)"
   ]
  },
  {
   "cell_type": "code",
   "execution_count": 8,
   "metadata": {},
   "outputs": [],
   "source": [
    "json_rec.write_param(param, \"./sample_config.json\")"
   ]
  },
  {
   "cell_type": "code",
   "execution_count": 9,
   "metadata": {},
   "outputs": [
    {
     "name": "stderr",
     "output_type": "stream",
     "text": [
      "10634it [00:00, 53173.47it/s]"
     ]
    },
    {
     "name": "stdout",
     "output_type": "stream",
     "text": [
      "Loading embedding from disks...\n"
     ]
    },
    {
     "name": "stderr",
     "output_type": "stream",
     "text": [
      "400000it [00:07, 53444.46it/s]\n"
     ]
    },
    {
     "name": "stdout",
     "output_type": "stream",
     "text": [
      "Embedding loaded from disks.\n"
     ]
    }
   ],
   "source": [
    "print(\"Loading embedding from disks...\")\n",
    "word_to_index, index_to_embedding = load_embedding_from_disks(\n",
    "    param[\"GLOVE_FILENAME\"],\n",
    "    with_indexes=True\n",
    ")\n",
    "print(\"Embedding loaded from disks.\")"
   ]
  },
  {
   "cell_type": "code",
   "execution_count": 10,
   "metadata": {},
   "outputs": [
    {
     "name": "stdout",
     "output_type": "stream",
     "text": [
      "Embedding matrix loaded, Vocab Size: 400001\n",
      "Embedding Dim: 50\n"
     ]
    }
   ],
   "source": [
    "vocab_size, embedding_dim = index_to_embedding.shape\n",
    "print(f\"Embedding matrix loaded, Vocab Size: {vocab_size}\\nEmbedding Dim: {embedding_dim}\")\n",
    "globals().update(param)"
   ]
  },
  {
   "cell_type": "code",
   "execution_count": 11,
   "metadata": {},
   "outputs": [],
   "source": [
    "def word2int(w: str) -> int:\n",
    "    try:\n",
    "        idx = word_to_index[w]\n",
    "    except KeyError:\n",
    "        idx = word_to_index[\"unk\"]\n",
    "    return idx"
   ]
  },
  {
   "cell_type": "code",
   "execution_count": 51,
   "metadata": {},
   "outputs": [
    {
     "data": {
      "image/png": "[encoded data removed]",
      "text/plain": [
       "<Figure size 432x288 with 1 Axes>"
      ]
     },
     "metadata": {},
     "output_type": "display_data"
    }
   ],
   "source": [
    "lengths = [len(x.split()) for x in df[\"text\"]]\n",
    "plt.hist(lengths)\n",
    "plt.show()"
   ]
  },
  {
   "cell_type": "code",
   "execution_count": 13,
   "metadata": {},
   "outputs": [
    {
     "name": "stderr",
     "output_type": "stream",
     "text": [
      "1600000it [00:13, 120844.42it/s]\n"
     ]
    }
   ],
   "source": [
    "X_lst, y_lst = [], []\n",
    "for sentence, polarity in tqdm(zip(df[\"text\"], df[\"polarity\"])):\n",
    "    # ==== Encode x ====\n",
    "    tokens = sentence.lower().split()\n",
    "    word_ints = np.array([word2int(x) for x in tokens])\n",
    "    X_lst.append(word_ints)\n",
    "    \n",
    "    # ==== Encode y ====\n",
    "    y_lst.append(polarity)"
   ]
  },
  {
   "cell_type": "code",
   "execution_count": 14,
   "metadata": {},
   "outputs": [],
   "source": [
    "X_lst = pad_sequences(\n",
    "    X_lst,\n",
    "    maxlen=max_seq_length,\n",
    "    padding=\"post\",\n",
    "    truncating=\"post\"\n",
    ")"
   ]
  },
  {
   "cell_type": "code",
   "execution_count": 35,
   "metadata": {},
   "outputs": [
    {
     "name": "stdout",
     "output_type": "stream",
     "text": [
      "(1600000, 25)\n",
      "(1600000, 1)\n"
     ]
    }
   ],
   "source": [
    "X_raw = np.stack(X_lst)\n",
    "y_raw = np.stack(y_lst).reshape(-1,1)\n",
    "print(X_raw.shape)\n",
    "print(y_raw.shape)\n",
    "X_raw = X_raw[:16000]\n",
    "y_raw = y_raw[:16000]"
   ]
  },
  {
   "cell_type": "code",
   "execution_count": 36,
   "metadata": {},
   "outputs": [],
   "source": [
    "(X_train, X_val,\n",
    " y_train, y_val) = train_test_split(\n",
    "    X_raw, y_raw,\n",
    "    test_size=0.2,\n",
    "    shuffle=True\n",
    ")"
   ]
  },
  {
   "cell_type": "code",
   "execution_count": 37,
   "metadata": {},
   "outputs": [
    {
     "name": "stdout",
     "output_type": "stream",
     "text": [
      "Training and testing set generated,\n",
      "X_train shape: (12800, 25)\n",
      "y_train shape: (12800, 1)\n",
      "X_validation shape: (3200, 25)\n",
      "y_validation shape: (3200, 1)\n"
     ]
    }
   ],
   "source": [
    "print(f\"Training and testing set generated,\\\n",
    "\\nX_train shape: {X_train.shape}\\\n",
    "\\ny_train shape: {y_train.shape}\\\n",
    "\\nX_validation shape: {X_val.shape}\\\n",
    "\\ny_validation shape: {y_val.shape}\")"
   ]
  },
  {
   "cell_type": "code",
   "execution_count": 39,
   "metadata": {},
   "outputs": [
    {
     "name": "stdout",
     "output_type": "stream",
     "text": [
      "X batches shape: (25, 512, 25)\n",
      "y batches shape: (25, 512, 1)\n"
     ]
    }
   ],
   "source": [
    "X_train_batches = X_train.reshape(25, 512, max_seq_length)\n",
    "y_train_batches = y_train.reshape(25, 512, 1)\n",
    "X_val_batches = X_val.reshape(32, 100, max_seq_length)\n",
    "y_val_batches = y_val.reshape(32, 100, 1)\n",
    "print(f\"X batches shape: {X_train_batches.shape}\")\n",
    "print(f\"y batches shape: {y_train_batches.shape}\")"
   ]
  },
  {
   "cell_type": "code",
   "execution_count": 77,
   "metadata": {},
   "outputs": [],
   "source": [
    "try:\n",
    "    sess.close()\n",
    "except NameError:\n",
    "    print(\"Session already cleaned.\")"
   ]
  },
  {
   "cell_type": "code",
   "execution_count": 78,
   "metadata": {},
   "outputs": [
    {
     "name": "stderr",
     "output_type": "stream",
     "text": [
      "/home/ec2-user/anaconda3/envs/tensorflow_p36/lib/python3.6/site-packages/tensorflow/python/client/session.py:1702: UserWarning: An interactive session is already active. This can cause out-of-memory errors in some cases. You must explicitly call `InteractiveSession.close()` to release resources held by the other session(s).\n",
      "  warnings.warn('An interactive session is already active. This can '\n"
     ]
    }
   ],
   "source": [
    "tf.reset_default_graph()\n",
    "sess = tf.InteractiveSession()\n",
    "\n",
    "with tf.name_scope(\"DATA_IO\"):\n",
    "    word_ids = tf.placeholder(\n",
    "        tf.int32,\n",
    "        shape=[None, max_seq_length]\n",
    "    )\n",
    "    \n",
    "    y = tf.placeholder(\n",
    "        tf.float32,\n",
    "        shape=[None, 1]\n",
    "    )\n",
    "\n",
    "with tf.name_scope(\"EMBEDDING\"):\n",
    "    embedding = tf.Variable(\n",
    "        tf.constant(0.0, shape=index_to_embedding.shape),\n",
    "        trainable=False,\n",
    "        name=\"EMBEDDING\"\n",
    "    )\n",
    "    \n",
    "    word_representation_layer = tf.nn.embedding_lookup(\n",
    "        params=embedding,\n",
    "        ids=word_ids\n",
    "    )\n",
    "    \n",
    "    embedding_placeholder = tf.placeholder(\n",
    "        tf.float32,\n",
    "        shape=index_to_embedding.shape\n",
    "    )\n",
    "    \n",
    "    embedding_init = embedding.assign(embedding_placeholder)\n",
    "    \n",
    "    _ = sess.run(\n",
    "        embedding_init, \n",
    "            feed_dict={\n",
    "                embedding_placeholder: index_to_embedding\n",
    "        }\n",
    "    )\n",
    "\n",
    "cell = tf.nn.rnn_cell.MultiRNNCell(\n",
    "    [tf.nn.rnn_cell.LSTMCell(\n",
    "        num_units=units,\n",
    "        name=f\"LSTM_LAYER_{i}\")\n",
    "        for i, units in enumerate(lstm_units)\n",
    "     ])\n",
    "\n",
    "lstm_cell = tf.contrib.rnn.DropoutWrapper(\n",
    "    cell=cell,\n",
    "    output_keep_prob=0.75\n",
    ")\n",
    "outputs, state = tf.nn.dynamic_rnn(\n",
    "    lstm_cell, \n",
    "    word_representation_layer,\n",
    "    dtype=tf.float32\n",
    ")\n",
    "\n",
    "with tf.name_scope(\"OUTPUT\"):\n",
    "    weight = tf.Variable(\n",
    "        tf.truncated_normal(\n",
    "            [lstm_units[-1], 1]\n",
    "        )\n",
    "    )\n",
    "    \n",
    "    bias = tf.Variable(\n",
    "        tf.random_normal(shape=[1])\n",
    "    )\n",
    "\n",
    "# Option i)\n",
    "#     value = tf.transpose(outputs, [1, 0, 2])\n",
    "#     last = tf.gather(value, int(value.get_shape()[0]) - 1)\n",
    "# Option ii)\n",
    "    last = outputs[:, -1, :]\n",
    "    pred = tf.matmul(last, weight) + bias\n",
    "    pred_sig = tf.sigmoid(pred) * 4"
   ]
  },
  {
   "cell_type": "code",
   "execution_count": 79,
   "metadata": {},
   "outputs": [],
   "source": [
    "with tf.name_scope(\"LOSSES\"):\n",
    "    loss = tf.reduce_mean(\n",
    "        tf.square(pred - y)\n",
    "    )\n",
    "    optimizer = tf.train.AdamOptimizer(learning_rate=0.03)\n",
    "    train_op = optimizer.minimize(loss)\n",
    "    tf.summary.scalar(\"Loss\", loss)"
   ]
  },
  {
   "cell_type": "code",
   "execution_count": 80,
   "metadata": {},
   "outputs": [
    {
     "name": "stdout",
     "output_type": "stream",
     "text": [
      "Epochs[0]: train batch avg accuracy=6.2331929206848145, val accuracy=6.184423446655273\n",
      "Epochs[1]: train batch avg accuracy=6.195934295654297, val accuracy=6.493029594421387\n",
      "Epochs[2]: train batch avg accuracy=4.158578395843506, val accuracy=4.397254467010498\n",
      "Epochs[3]: train batch avg accuracy=3.3997583389282227, val accuracy=3.2550415992736816\n",
      "Epochs[4]: train batch avg accuracy=2.5666208267211914, val accuracy=2.5964338779449463\n",
      "Epochs[5]: train batch avg accuracy=1.735917091369629, val accuracy=1.7137882709503174\n",
      "Epochs[6]: train batch avg accuracy=1.4311617612838745, val accuracy=1.3726218938827515\n",
      "Epochs[7]: train batch avg accuracy=1.1781712770462036, val accuracy=1.1968326568603516\n",
      "Epochs[8]: train batch avg accuracy=0.9787371158599854, val accuracy=1.0045100450515747\n",
      "Epochs[9]: train batch avg accuracy=0.853961706161499, val accuracy=0.8671680092811584\n"
     ]
    }
   ],
   "source": [
    "saver = tf.train.Saver()\n",
    "\n",
    "sess.run(tf.global_variables_initializer())\n",
    "\n",
    "merged = tf.summary.merge_all()\n",
    "logdir = model_dir + \"/tensorboard/\"\n",
    "writer = tf.summary.FileWriter(logdir, sess.graph)\n",
    "\n",
    "for e in range(epochs):\n",
    "    for X_batch, y_batch in zip(X_train_batches, y_train_batches):\n",
    "        sess.run(\n",
    "            train_op,\n",
    "            feed_dict={\n",
    "                word_ids: X_batch,\n",
    "                y: y_batch\n",
    "            }\n",
    "        )\n",
    "\n",
    "    if e % 5 == 0:\n",
    "        summary = sess.run(\n",
    "            merged,\n",
    "            feed_dict={\n",
    "                word_ids: X_val,\n",
    "                y: y_val\n",
    "            }\n",
    "        )\n",
    "    if e % 1 == 0:\n",
    "        train_mse = []\n",
    "        val_mse = []\n",
    "        for X_batch, y_batch in zip(X_train_batches, y_train_batches):\n",
    "            train_mse.append(\n",
    "                loss.eval(\n",
    "                    feed_dict={word_ids: X_batch, y: y_batch}\n",
    "            ))\n",
    "        avg_tarin_mse = np.mean(train_mse)\n",
    "        \n",
    "        for X_batch, y_batch in zip(X_val_batches, y_val_batches):\n",
    "            val_mse.append(\n",
    "                loss.eval(feed_dict={word_ids: X_batch, y: y_batch}\n",
    "            ))\n",
    "        avg_val_mse = np.mean(val_mse)\n",
    "        print(\n",
    "            f\"Epochs[{e}]: train batch avg accuracy={avg_tarin_mse}, val accuracy={avg_val_mse}\")\n",
    "    writer.add_summary(summary, e)\n",
    "    writer.close()"
   ]
  },
  {
   "cell_type": "code",
   "execution_count": 81,
   "metadata": {},
   "outputs": [],
   "source": [
    "f = lambda src: pred_sig.eval(feed_dict={word_ids: src})\n",
    "train_pred = f(X_train)\n",
    "val_pred = f(X_val)"
   ]
  },
  {
   "cell_type": "code",
   "execution_count": 82,
   "metadata": {},
   "outputs": [
    {
     "data": {
      "text/plain": [
       "(array([ 206.,  793., 1347., 1709., 1925., 2140., 1951., 1556.,  915.,\n",
       "         258.]),\n",
       " array([0.13210487, 0.50355723, 0.87500958, 1.24646194, 1.6179143 ,\n",
       "        1.98936665, 2.36081901, 2.73227136, 3.10372372, 3.47517607,\n",
       "        3.84662843]),\n",
       " <a list of 10 Patch objects>)"
      ]
     },
     "execution_count": 82,
     "metadata": {},
     "output_type": "execute_result"
    },
    {
     "data": {
      "image/png": "[encoded data removed]",
      "text/plain": [
       "<Figure size 432x288 with 1 Axes>"
      ]
     },
     "metadata": {},
     "output_type": "display_data"
    }
   ],
   "source": [
    "plt.hist(train_pred)"
   ]
  },
  {
   "cell_type": "code",
   "execution_count": 87,
   "metadata": {},
   "outputs": [
    {
     "ename": "AssertionError",
     "evalue": "Export directory already exists. Please specify a different export directory: ./saved_model/2019-01-20-06:37/model",
     "output_type": "error",
     "traceback": [
      "\u001b[0;31m---------------------------------------------------------------------------\u001b[0m",
      "\u001b[0;31mAssertionError\u001b[0m                            Traceback (most recent call last)",
      "\u001b[0;32m<ipython-input-87-615e8feac4ee>\u001b[0m in \u001b[0;36m<module>\u001b[0;34m()\u001b[0m\n\u001b[1;32m      3\u001b[0m             \u001b[0mexport_dir\u001b[0m\u001b[0;34m=\u001b[0m\u001b[0;34mf\"{model_dir}/model\"\u001b[0m\u001b[0;34m,\u001b[0m\u001b[0;34m\u001b[0m\u001b[0m\n\u001b[1;32m      4\u001b[0m             \u001b[0minputs\u001b[0m\u001b[0;34m=\u001b[0m\u001b[0;34m{\u001b[0m\u001b[0;34m\"DATA_IO/word_ids\"\u001b[0m\u001b[0;34m:\u001b[0m \u001b[0mword_ids\u001b[0m\u001b[0;34m,\u001b[0m \u001b[0;34m\"DATA_IO/y\"\u001b[0m\u001b[0;34m:\u001b[0m \u001b[0my\u001b[0m\u001b[0;34m}\u001b[0m\u001b[0;34m,\u001b[0m\u001b[0;34m\u001b[0m\u001b[0m\n\u001b[0;32m----> 5\u001b[0;31m             \u001b[0moutputs\u001b[0m\u001b[0;34m=\u001b[0m\u001b[0;34m{\u001b[0m\u001b[0;34m\"OUTPUT/pred\"\u001b[0m\u001b[0;34m:\u001b[0m \u001b[0mpred\u001b[0m\u001b[0;34m,\u001b[0m \u001b[0;34m\"OUTPUT/pred_sig\"\u001b[0m\u001b[0;34m:\u001b[0m \u001b[0mpred_sig\u001b[0m\u001b[0;34m}\u001b[0m\u001b[0;34m\u001b[0m\u001b[0m\n\u001b[0m\u001b[1;32m      6\u001b[0m )\n",
      "\u001b[0;32m~/anaconda3/envs/tensorflow_p36/lib/python3.6/site-packages/tensorflow/python/saved_model/simple_save.py\u001b[0m in \u001b[0;36msimple_save\u001b[0;34m(session, export_dir, inputs, outputs, legacy_init_op)\u001b[0m\n\u001b[1;32m     76\u001b[0m           \u001b[0msignature_def_utils\u001b[0m\u001b[0;34m.\u001b[0m\u001b[0mpredict_signature_def\u001b[0m\u001b[0;34m(\u001b[0m\u001b[0minputs\u001b[0m\u001b[0;34m,\u001b[0m \u001b[0moutputs\u001b[0m\u001b[0;34m)\u001b[0m\u001b[0;34m\u001b[0m\u001b[0m\n\u001b[1;32m     77\u001b[0m   }\n\u001b[0;32m---> 78\u001b[0;31m   \u001b[0mb\u001b[0m \u001b[0;34m=\u001b[0m \u001b[0mbuilder\u001b[0m\u001b[0;34m.\u001b[0m\u001b[0mSavedModelBuilder\u001b[0m\u001b[0;34m(\u001b[0m\u001b[0mexport_dir\u001b[0m\u001b[0;34m)\u001b[0m\u001b[0;34m\u001b[0m\u001b[0m\n\u001b[0m\u001b[1;32m     79\u001b[0m   b.add_meta_graph_and_variables(\n\u001b[1;32m     80\u001b[0m       \u001b[0msession\u001b[0m\u001b[0;34m,\u001b[0m\u001b[0;34m\u001b[0m\u001b[0m\n",
      "\u001b[0;32m~/anaconda3/envs/tensorflow_p36/lib/python3.6/site-packages/tensorflow/python/saved_model/builder_impl.py\u001b[0m in \u001b[0;36m__init__\u001b[0;34m(self, export_dir)\u001b[0m\n\u001b[1;32m     93\u001b[0m       raise AssertionError(\n\u001b[1;32m     94\u001b[0m           \u001b[0;34m\"Export directory already exists. Please specify a different export \"\u001b[0m\u001b[0;34m\u001b[0m\u001b[0m\n\u001b[0;32m---> 95\u001b[0;31m           \"directory: %s\" % export_dir)\n\u001b[0m\u001b[1;32m     96\u001b[0m \u001b[0;34m\u001b[0m\u001b[0m\n\u001b[1;32m     97\u001b[0m     \u001b[0mfile_io\u001b[0m\u001b[0;34m.\u001b[0m\u001b[0mrecursive_create_dir\u001b[0m\u001b[0;34m(\u001b[0m\u001b[0mself\u001b[0m\u001b[0;34m.\u001b[0m\u001b[0m_export_dir\u001b[0m\u001b[0;34m)\u001b[0m\u001b[0;34m\u001b[0m\u001b[0m\n",
      "\u001b[0;31mAssertionError\u001b[0m: Export directory already exists. Please specify a different export directory: ./saved_model/2019-01-20-06:37/model"
     ]
    }
   ],
   "source": [
    "tf.saved_model.simple_save(\n",
    "            sess,\n",
    "            export_dir=f\"{model_dir}/model\",\n",
    "            inputs={\"DATA_IO/word_ids\": word_ids, \"DATA_IO/y\": y},\n",
    "            outputs={\"OUTPUT/pred\": pred, \"OUTPUT/pred_sig\": pred_sig}\n",
    ")"
   ]
  },
  {
   "cell_type": "code",
   "execution_count": 88,
   "metadata": {},
   "outputs": [],
   "source": [
    "def sentence2ints(sentence):\n",
    "    tokens = sentence.split()\n",
    "    ids = [word_to_index[word] for word in tokens]\n",
    "    ids = pad_sequences([ids], maxlen=max_seq_length, padding=\"post\", truncating=\"post\")\n",
    "    return np.array(ids)"
   ]
  },
  {
   "cell_type": "code",
   "execution_count": 106,
   "metadata": {},
   "outputs": [
    {
     "name": "stdout",
     "output_type": "stream",
     "text": [
      "[[2.9689612]]\n"
     ]
    }
   ],
   "source": [
    "int_sen = sentence2ints(sen)\n",
    "print(pred_sig.eval(feed_dict={word_ids: int_sen}))"
   ]
  },
  {
   "cell_type": "code",
   "execution_count": 98,
   "metadata": {},
   "outputs": [
    {
     "data": {
      "text/plain": [
       "array([[3.2815456]], dtype=float32)"
      ]
     },
     "execution_count": 98,
     "metadata": {},
     "output_type": "execute_result"
    }
   ],
   "source": [
    "pred_sig.eval(feed_dict={word_ids: int_sen})"
   ]
  },
  {
   "cell_type": "code",
   "execution_count": null,
   "metadata": {},
   "outputs": [],
   "source": []
  }
 ],
 "metadata": {
  "kernelspec": {
   "display_name": "Python 3",
   "language": "python",
   "name": "python3"
  },
  "language_info": {
   "codemirror_mode": {
    "name": "ipython",
    "version": 3
   },
   "file_extension": ".py",
   "mimetype": "text/x-python",
   "name": "python",
   "nbconvert_exporter": "python",
   "pygments_lexer": "ipython3",
   "version": "3.6.5"
  }
 },
 "nbformat": 4,
 "nbformat_minor": 2
}
